{
 "cells": [
  {
   "cell_type": "code",
   "execution_count": 1,
   "id": "0f4716a7-df51-485b-baed-c73ed6784021",
   "metadata": {},
   "outputs": [],
   "source": [
    "from langchain_community.vectorstores import Chroma\n",
    "from utility import embedding_method"
   ]
  },
  {
   "cell_type": "code",
   "execution_count": 2,
   "id": "1eab6a32-53f4-4683-bcb5-90d12f0039ac",
   "metadata": {},
   "outputs": [],
   "source": [
    "db = Chroma(persist_directory=\"./db_baihuasanguozhi\", embedding_function=embedding_method())\n",
    "query = \"汉献帝建安十六年，刘备攻打了谁？\"\n",
    "res = db.similarity_search(query)"
   ]
  },
  {
   "cell_type": "code",
   "execution_count": 17,
   "id": "3e669da3-d743-415a-842e-9817d47685e9",
   "metadata": {},
   "outputs": [
    {
     "name": "stdout",
     "output_type": "stream",
     "text": [
      "<class 'langchain_core.documents.base.Document'>\n",
      "汉献帝建安五年(200)，曹操东征徐州，刘备投奔袁绍。曹操擒获关羽后返回，任关羽为偏将军，对他以礼相待，赏赐优厚。袁绍派大将颜良在白马进攻东郡太守刘延，曹操派遣张辽和关羽为先锋进击颜良\n",
      "{'source': './history/baihuasanguozhi.txt'}\n",
      "Document\n",
      "<class 'langchain_core.documents.base.Document'>\n",
      "汉献帝建安十六年(211)，益州牧刘璋派遣法正迎请刘备，让刘备去攻打张鲁。诸葛亮与关羽镇守荆州。后来刘备从葭萌返回攻打刘璋，诸葛亮与张飞、赵云等率军沿江逆流而上，分头平定沿江两岸各郡、县，然后与刘备汇合共同围攻成都\n",
      "{'source': './history/baihuasanguozhi.txt'}\n",
      "Document\n",
      "<class 'langchain_core.documents.base.Document'>\n",
      "建安十四年(209)，周瑜和曹仁相互对垒相持一年多，杀死的兵卒很多。曹仁弃城逃走。孙权以周瑜为南郡太守。刘备上表奏封孙权代理车骑将军，兼任徐州牧。刘备兼任荆州牧，驻守公安。\n",
      "{'source': './history/baihuasanguozhi.txt'}\n",
      "Document\n",
      "<class 'langchain_core.documents.base.Document'>\n",
      "。刘备称帝后，准备东征孙权为关羽报仇雪耻，许多大臣都进行劝谏阻止，但刘备一概不听。章武二年(222)，刘备大军被吴军击败，退驻白帝城。诸葛亮叹息说：“法孝直如果在世，一定能劝阻主上，使他不进兵东吴，即使进兵东吴，也不会遭到如此惨败！”\n",
      "{'source': './history/baihuasanguozhi.txt'}\n",
      "Document\n"
     ]
    }
   ],
   "source": [
    "for i in res:\n",
    "    print(type(i))\n",
    "    for j in i:\n",
    "        print(j[1])\n",
    "        "
   ]
  },
  {
   "cell_type": "code",
   "execution_count": null,
   "id": "fec119dd-cd38-4ab9-a43f-6a4aa4bd0a3c",
   "metadata": {},
   "outputs": [],
   "source": []
  },
  {
   "cell_type": "code",
   "execution_count": null,
   "id": "8f902fd0-7be7-481b-8233-a7330af5c0e6",
   "metadata": {},
   "outputs": [],
   "source": []
  },
  {
   "cell_type": "code",
   "execution_count": null,
   "id": "6129dee9-86f2-4e39-b080-b7c5df8adfb6",
   "metadata": {},
   "outputs": [],
   "source": []
  },
  {
   "cell_type": "code",
   "execution_count": null,
   "id": "12ee49d3-6606-4710-87a5-f655630021da",
   "metadata": {},
   "outputs": [],
   "source": []
  },
  {
   "cell_type": "code",
   "execution_count": null,
   "id": "f53850a5-a64b-4ec5-a8b6-476be514a861",
   "metadata": {},
   "outputs": [],
   "source": []
  },
  {
   "cell_type": "code",
   "execution_count": null,
   "id": "4b4125a8-26f4-49fe-8315-b28a97b37c43",
   "metadata": {},
   "outputs": [],
   "source": []
  },
  {
   "cell_type": "code",
   "execution_count": null,
   "id": "a1d107e4-eb50-4f2d-8e94-7f3e5e78f6e4",
   "metadata": {},
   "outputs": [],
   "source": []
  },
  {
   "cell_type": "code",
   "execution_count": null,
   "id": "bebea264-cfa9-4390-b1b2-629dfa34fa39",
   "metadata": {},
   "outputs": [],
   "source": []
  },
  {
   "cell_type": "code",
   "execution_count": null,
   "id": "b11948a9-a131-4425-a552-d09677b7babc",
   "metadata": {},
   "outputs": [],
   "source": []
  },
  {
   "cell_type": "code",
   "execution_count": null,
   "id": "33a9b8f2-7711-468b-9fdf-c0953ab34262",
   "metadata": {},
   "outputs": [],
   "source": []
  }
 ],
 "metadata": {
  "kernelspec": {
   "display_name": "Python 3 (ipykernel)",
   "language": "python",
   "name": "python3"
  },
  "language_info": {
   "codemirror_mode": {
    "name": "ipython",
    "version": 3
   },
   "file_extension": ".py",
   "mimetype": "text/x-python",
   "name": "python",
   "nbconvert_exporter": "python",
   "pygments_lexer": "ipython3",
   "version": "3.10.13"
  }
 },
 "nbformat": 4,
 "nbformat_minor": 5
}
